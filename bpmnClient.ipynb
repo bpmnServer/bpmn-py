{
  "nbformat": 4,
  "nbformat_minor": 0,
  "metadata": {
    "colab": {
      "provenance": [],
      "toc_visible": true,
      "authorship_tag": "ABX9TyN35Fw7IbDwE4UPsfar8RKc",
      "include_colab_link": true
    },
    "kernelspec": {
      "name": "python3",
      "display_name": "Python 3"
    },
    "language_info": {
      "name": "python"
    }
  },
  "cells": [
    {
      "cell_type": "markdown",
      "metadata": {
        "id": "view-in-github",
        "colab_type": "text"
      },
      "source": [
        "<a href=\"https://colab.research.google.com/github/bpmnServer/bpmn-py/blob/main/bpmnClient.ipynb\" target=\"_parent\"><img src=\"https://colab.research.google.com/assets/colab-badge.svg\" alt=\"Open In Colab\"/></a>"
      ]
    },
    {
      "cell_type": "markdown",
      "source": [
        "#Setup Python bpmn-client"
      ],
      "metadata": {
        "id": "0KwGAAz5mWiS"
      }
    },
    {
      "cell_type": "markdown",
      "source": [
        "We Start by installing Python Package for `bpmnclient"
      ],
      "metadata": {
        "id": "tyM6GweQf5fV"
      }
    },
    {
      "cell_type": "code",
      "execution_count": 7,
      "metadata": {
        "id": "FTe6QnUrVxtn",
        "colab": {
          "base_uri": "https://localhost:8080/"
        },
        "outputId": "dac16943-ef68-4655-da70-33cabcd2742f"
      },
      "outputs": [
        {
          "output_type": "stream",
          "name": "stdout",
          "text": [
            "Collecting bpmnclient\n",
            "  Downloading bpmnClient-1.0.1-py3-none-any.whl (6.9 kB)\n",
            "Installing collected packages: bpmnclient\n",
            "Successfully installed bpmnclient-1.0.1\n",
            "Name: bpmnClient\n",
            "Version: 1.0.1\n",
            "Summary: bpmnServer python client\n",
            "Home-page: \n",
            "Author: \n",
            "Author-email: ralph hanna <ralphhanna@hotmail.com>\n",
            "License: \n",
            "Location: /usr/local/lib/python3.10/dist-packages\n",
            "Requires: \n",
            "Required-by: \n"
          ]
        }
      ],
      "source": [
        "!pip install -U bpmnclient\n",
        "!pip show bpmnclient"
      ]
    },
    {
      "cell_type": "markdown",
      "source": [
        "Let us import required classes\n",
        "- `bpmn2.BPMNClient2' is version 2.0 API\n",
        "- `Response` is a utility to help display response object"
      ],
      "metadata": {
        "id": "--ieVOupgPOq"
      }
    },
    {
      "cell_type": "code",
      "source": [
        "from bpmnClient import bpmn2\n",
        "Response =bpmn2.Response\n",
        "\n",
        "#help(bpmn2)\n",
        "\n",
        "cl = bpmn2.BPMNClient2('bpmn.omniworkflow.com','443','12345')\n",
        "\n"
      ],
      "metadata": {
        "id": "qv4y_9nbPVxR",
        "collapsed": true
      },
      "execution_count": 8,
      "outputs": []
    },
    {
      "cell_type": "markdown",
      "source": [
        "Define a `user` object that we will be using throughout this exercise"
      ],
      "metadata": {
        "id": "uDht1vWAgmPc"
      }
    },
    {
      "cell_type": "code",
      "source": [
        "user = {\"userName\":\"John Kennedy\", \"userGroups\":[\"Admin\"]}"
      ],
      "metadata": {
        "id": "hydsulStUfIE"
      },
      "execution_count": 9,
      "outputs": []
    },
    {
      "cell_type": "markdown",
      "source": [
        "List the Models available to us:"
      ],
      "metadata": {
        "id": "ZtBlM3jGg1hr"
      }
    },
    {
      "cell_type": "markdown",
      "source": [
        "# List Models"
      ],
      "metadata": {
        "id": "Dz5Bogahmjwz"
      }
    },
    {
      "cell_type": "code",
      "source": [
        "cl.model.listModels()"
      ],
      "metadata": {
        "colab": {
          "base_uri": "https://localhost:8080/"
        },
        "collapsed": true,
        "id": "iI14LaaTfksP",
        "outputId": "d02c18d2-f7d6-4281-e206-e5da5b17a835"
      },
      "execution_count": 86,
      "outputs": [
        {
          "output_type": "execute_result",
          "data": {
            "text/plain": [
              "[{'name': 'Buy Used Car with Lanes', 'saved': None},\n",
              " {'name': 'Buy Used Car', 'saved': None},\n",
              " {'name': 'CallTask', 'saved': None},\n",
              " {'name': 'Cancel Application', 'saved': None},\n",
              " {'name': 'Cash Request', 'saved': None},\n",
              " {'name': 'Error events', 'saved': None},\n",
              " {'name': 'Event Based Gateway', 'saved': None},\n",
              " {'name': 'Hungry', 'saved': None},\n",
              " {'name': 'Invoice', 'saved': None},\n",
              " {'name': 'Leave Application', 'saved': None},\n",
              " {'name': 'MsgCatch', 'saved': None},\n",
              " {'name': 'ReceiveTask', 'saved': None},\n",
              " {'name': 'Restart', 'saved': None},\n",
              " {'name': 'SubProcess', 'saved': None},\n",
              " {'name': 'Test', 'saved': None},\n",
              " {'name': 'Trans', 'saved': None},\n",
              " {'name': 'ad hoc', 'saved': None},\n",
              " {'name': 'boundary-event', 'saved': None},\n",
              " {'name': 'bpmn-server-arch', 'saved': None},\n",
              " {'name': 'dd', 'saved': None},\n",
              " {'name': 'fire disaster', 'saved': None},\n",
              " {'name': 'loop', 'saved': None},\n",
              " {'name': 'messageFlow', 'saved': None},\n",
              " {'name': 'msgThrow', 'saved': None},\n",
              " {'name': 'multiStart', 'saved': None},\n",
              " {'name': 'pizza store example', 'saved': None},\n",
              " {'name': 'scripts and services', 'saved': None},\n",
              " {'name': 'sendTask', 'saved': None},\n",
              " {'name': 'serviceTask', 'saved': None},\n",
              " {'name': 'test', 'saved': None},\n",
              " {'name': 'tester', 'saved': None},\n",
              " {'name': 'timer-sample', 'saved': None}]"
            ]
          },
          "metadata": {},
          "execution_count": 86
        }
      ]
    },
    {
      "cell_type": "markdown",
      "source": [
        "# Run \"Buy Used Car\" Model"
      ],
      "metadata": {
        "id": "PApjxzm4mp-l"
      }
    },
    {
      "cell_type": "markdown",
      "source": [
        "Clear out any previous cases for this exercise"
      ],
      "metadata": {
        "id": "_1Hl8Mu6hHqd"
      }
    },
    {
      "cell_type": "code",
      "source": [
        "caseId = \"7002\" # @param {type:\"string\"}\n",
        "res=cl.data.delete_instances({\"data.caseId\":caseId},user)\n",
        "print('Instances Deleted:',res[\"result\"][\"deletedCount\"])"
      ],
      "metadata": {
        "colab": {
          "base_uri": "https://localhost:8080/"
        },
        "id": "MhQytIGSUGkV",
        "outputId": "acb08a92-0e4e-4839-d8fb-45f098b103f0"
      },
      "execution_count": 10,
      "outputs": [
        {
          "output_type": "stream",
          "name": "stdout",
          "text": [
            "Instances Deleted: 2\n"
          ]
        }
      ]
    },
    {
      "cell_type": "code",
      "source": [
        "res=cl.engine.start(\"Buy Used Car\",{\"caseId\":caseId},user)\n",
        "print(\"<table>\")\n",
        "for item in res['items']: {\n",
        "    print('<tr><td>',item[\"elementId\"],'</td><td>',item[\"status\"],'</td></tr>')\n",
        "}\n",
        "print(\"</table>\")\n",
        "print (res['data'],len(res['items']))\n"
      ],
      "metadata": {
        "colab": {
          "base_uri": "https://localhost:8080/"
        },
        "id": "lGOxgsKnTIp0",
        "outputId": "67402d63-fd97-43a9-8b30-473e98d96d31"
      },
      "execution_count": 11,
      "outputs": [
        {
          "output_type": "stream",
          "name": "stdout",
          "text": [
            "<table>\n",
            "<tr><td> StartEvent_158yep3 </td><td> end </td></tr>\n",
            "<tr><td> flow_start_buy </td><td> end </td></tr>\n",
            "<tr><td> task_Buy </td><td> wait </td></tr>\n",
            "</table>\n",
            "{'caseId': '7002', 'starterUserId': 'John Kennedy', 'startDate': None} 3\n"
          ]
        }
      ]
    },
    {
      "cell_type": "code",
      "source": [
        "res=cl.engine.invoke({\"data.caseId\":caseId,\"items.status\":\"wait\"},{\"requiresRepairs\":True},user)\n",
        "Response(res).listItems()\n"
      ],
      "metadata": {
        "colab": {
          "base_uri": "https://localhost:8080/"
        },
        "id": "rLbrnr55UILn",
        "outputId": "81bb6c7a-7129-45ba-b54c-2396e07296c7"
      },
      "execution_count": 13,
      "outputs": [
        {
          "output_type": "stream",
          "name": "stdout",
          "text": [
            " res key: _id\n",
            " res key: version\n",
            " res key: items\n",
            " res key: logs\n",
            " res key: tokens\n",
            " res key: loops\n",
            " res key: id\n",
            " res key: name\n",
            " res key: source\n",
            " res key: status\n",
            " res key: data\n",
            " res key: startedAt\n",
            " res key: savePoints\n",
            " res key: saved\n",
            " item: 0 StartEvent_158yep3 end\n",
            " item: 1 flow_start_buy end\n",
            " item: 2 task_Buy end\n",
            " item: 3 flow_buy_gw end\n",
            " item: 4 gateway_1 end\n",
            " item: 7 flow_gw1_gw2 end\n",
            " item: 8 gateway_2 end\n",
            " item: 9 flow_gw2_drive end\n",
            " item: 10 task_Drive wait\n"
          ]
        },
        {
          "output_type": "execute_result",
          "data": {
            "text/plain": [
              "<bpmnClient.bpmn2.Response at 0x7a4038d873d0>"
            ]
          },
          "metadata": {},
          "execution_count": 13
        }
      ]
    }
  ]
}